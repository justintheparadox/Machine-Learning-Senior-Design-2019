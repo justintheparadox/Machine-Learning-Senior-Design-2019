{
 "cells": [
  {
   "cell_type": "code",
   "execution_count": 5,
   "metadata": {},
   "outputs": [],
   "source": [
    "from PIL import Image\n",
    "import random\n",
    "import numpy as np\n",
    "import os\n",
    "import tensorflow as tf\n",
    "patches = 3\n",
    "%run functions.ipynb\n",
    "%run Alexnet.ipynb\n",
    "\n",
    "\n",
    "def testing(imagenet_path, labels_path, patches, image_no, class_no):\n",
    "    test_images = sorted(os.listdir(imagenet_path)) \n",
    "    labels = read_gt_label(labels_path, class_no)\n",
    "    patch = tf.placeholder(tf.float32, [None, 227, 227, 3])\n",
    "    output = Alexnet_full(patch, 1)\n",
    "    avg_prediction =tf.div(tf.reduce_sum(output, 0), patches)\n",
    "    sess = tf.Session()\n",
    "    \n",
    "    for i in range(image_no):\n",
    "        image_path = imagenet_path+\"//\"+test_images[i]\n",
    "        image_patches = getpatches(image_path, patches)\n",
    "        sess.run(tf.global_variables_initializer())\n",
    "        res = sess.run([avg_prediction], feed_dict={x: image_patches, y: [lab]})\n",
    "        print(res)\n",
    "\n",
    "\n",
    "    sess.close()"
   ]
  },
  {
   "cell_type": "code",
   "execution_count": null,
   "metadata": {},
   "outputs": [],
   "source": []
  },
  {
   "cell_type": "code",
   "execution_count": null,
   "metadata": {},
   "outputs": [],
   "source": []
  }
 ],
 "metadata": {
  "kernelspec": {
   "display_name": "Python 3",
   "language": "python",
   "name": "python3"
  },
  "language_info": {
   "codemirror_mode": {
    "name": "ipython",
    "version": 3
   },
   "file_extension": ".py",
   "mimetype": "text/x-python",
   "name": "python",
   "nbconvert_exporter": "python",
   "pygments_lexer": "ipython3",
   "version": "3.7.3"
  }
 },
 "nbformat": 4,
 "nbformat_minor": 2
}
